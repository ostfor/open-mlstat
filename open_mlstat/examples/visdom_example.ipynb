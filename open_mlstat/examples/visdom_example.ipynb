{
 "cells": [
  {
   "cell_type": "markdown",
   "metadata": {
    "collapsed": true
   },
   "source": [
    "# Save credentials\n",
    "\n",
    "- Register app on google api ( [tutorial](https://developers.google.com/drive/api/v3/quickstart/go) )\n",
    "- Enable `Google Drive API` and `Google Sheets API`\n",
    "- Create key for [service account](https://console.cloud.google.com/iam-admin/serviceaccounts). Choose key , tap `...` -> `Create key` -> `JSON`.\n",
    "\n",
    "\n",
    "```bash\n",
    "mv <path> /tmp/drive.json\n",
    "```"
   ]
  },
  {
   "cell_type": "code",
   "execution_count": null,
   "metadata": {},
   "outputs": [],
   "source": [
    "from open_mlstat.google_docs_stat import GoogleDocsStats\n",
    "from open_mlstat.tools.helpers import get_commit, get_host_name\n",
    "from open_mlstat.google_sheets.sheet_query import SheetQuery\n",
    "from open_mlstat.tools.helpers import current_timestamp\n",
    "\n",
    "timestamp = current_timestamp()\n",
    "gstat = GoogleDocsStats(\"testing_case\", \"/tmp/drive.json\")\n",
    "\n",
    "query = SheetQuery(1, 1, 0.6, timestamp, 0.2, server_id=get_host_name(), commit=get_commit())\n",
    "gstat.add(query, \"test_{}\".format(timestamp))\n"
   ]
  }
 ],
 "metadata": {
  "kernelspec": {
   "display_name": ".scnn-hand",
   "language": "python",
   "name": ".scnn-hand"
  },
  "language_info": {
   "codemirror_mode": {
    "name": "ipython",
    "version": 3
   },
   "file_extension": ".py",
   "mimetype": "text/x-python",
   "name": "python",
   "nbconvert_exporter": "python",
   "pygments_lexer": "ipython3",
   "version": "3.6.7"
  }
 },
 "nbformat": 4,
 "nbformat_minor": 1
}
