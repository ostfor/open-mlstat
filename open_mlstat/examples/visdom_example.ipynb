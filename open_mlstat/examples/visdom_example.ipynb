{
 "cells": [
  {
   "cell_type": "markdown",
   "metadata": {
    "collapsed": true
   },
   "source": [
    "# Save credentials\n",
    "Registrate it on google api\n",
    "\n",
    "```bash\n",
    "mv <path> /tmp/drive.json\n",
    "```\n"
   ]
  },
  {
   "cell_type": "code",
   "execution_count": 1,
   "metadata": {},
   "outputs": [
    {
     "name": "stdout",
     "output_type": "stream",
     "text": [
      "Table:  https://docs.google.com/spreadsheets/d/11_j13IoA95b_oWMLn1stPZSbYuWS2wNLF15H64SZOyM\n",
      "Data folder:  https://drive.google.com/drive/u/0/folders/1FAVJFhc5fT8JevW1LjBd2ikVeYnPmxCK\n"
     ]
    }
   ],
   "source": [
    "from open_mlstat.google_docs_stat import GoogleDocsStats\n",
    "from open_mlstat.tools.helpers import get_commit, get_host_name\n",
    "from open_mlstat.google_sheets.sheet_query import SheetQuery\n",
    "from open_mlstat.tools.helpers import current_timestamp\n",
    "\n",
    "timestamp = current_timestamp()\n",
    "gstat = GoogleDocsStats(\"testing_case\", \"/tmp/drive.json\")\n",
    "\n",
    "query = SheetQuery(1, 1, 0.6, timestamp, 0.2, server_id=get_host_name(), commit=get_commit())\n",
    "gstat.add(query, \"test_{}\".format(timestamp))\n"
   ]
  }
 ],
 "metadata": {
  "kernelspec": {
   "display_name": "Python 3",
   "language": "python",
   "name": "python3"
  },
  "language_info": {
   "codemirror_mode": {
    "name": "ipython",
    "version": 3
   },
   "file_extension": ".py",
   "mimetype": "text/x-python",
   "name": "python",
   "nbconvert_exporter": "python",
   "pygments_lexer": "ipython3",
   "version": "3.6.7"
  }
 },
 "nbformat": 4,
 "nbformat_minor": 1
}
