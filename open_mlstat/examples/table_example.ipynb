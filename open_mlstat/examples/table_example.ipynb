{
 "cells": [
  {
   "cell_type": "markdown",
   "metadata": {
    "collapsed": true
   },
   "source": [
    "# Save credentials\n",
    "\n",
    "- Create app [here](https://console.cloud.google.com/apis/credentials) ( [tutorial](https://developers.google.com/drive/api/v3/quickstart/go) )\n",
    "- Enable `Google Drive API` and `Google Sheets API`\n",
    "- Create service acount key:\n",
    "  - From creditails console (Create key -> choose sercice account -> choose JSON). Download json key.\n",
    "  - Or here:[service account](https://console.cloud.google.com/iam-admin/serviceaccounts). Choose key , tap `...` -> `Create key` -> `JSON`.\n",
    "\n",
    "\n",
    "```bash\n",
    "mv <path> /tmp/drive.json\n",
    "```\n",
    "\n",
    "# Custom table\n",
    "\n",
    "The custom config could be used:\n",
    "```\n",
    "{\n",
    "  \"experiment_name\": <name of experiments to log>,\n",
    "  \"credentials\": <path to credentials file>,\n",
    "  \"table_titles\": <titles for fields to log>\n",
    "}\n",
    "```"
   ]
  },
  {
   "cell_type": "code",
   "execution_count": null,
   "metadata": {},
   "outputs": [],
   "source": [
    "#\"testing_case\", \"/tmp/drive.json\"\n",
    "! cat ../cfg/config_example.json\n",
    "# Create file to upload\n",
    "! touch /tmp/ep1.ckpt"
   ]
  },
  {
   "cell_type": "code",
   "execution_count": null,
   "metadata": {},
   "outputs": [],
   "source": [
    "from open_mlstat.google_docs_stat import GoogleDocsStats\n",
    "gstat = GoogleDocsStats(\"../cfg/config_example.json\")"
   ]
  },
  {
   "cell_type": "code",
   "execution_count": null,
   "metadata": {},
   "outputs": [],
   "source": [
    "import json\n",
    "from open_mlstat.tools.helpers import get_commit, get_host_name, current_timestamp\n",
    "\n",
    "# Load query\n",
    "with open(\"../cfg/query_example.json\") as f:\n",
    "    query = json.load(f)    \n",
    "print(\"> Query: \", query[\"query\"])\n",
    "print(\"> Actions: \",query[\"actions\"])"
   ]
  },
  {
   "cell_type": "code",
   "execution_count": null,
   "metadata": {},
   "outputs": [],
   "source": [
    "gstat.add(query[\"query\"], query[\"actions\"])"
   ]
  }
 ],
 "metadata": {
  "kernelspec": {
   "display_name": "open-mlstat-py3.5",
   "language": "python",
   "name": "open-mlstat-py3.5"
  },
  "language_info": {
   "codemirror_mode": {
    "name": "ipython",
    "version": 3
   },
   "file_extension": ".py",
   "mimetype": "text/x-python",
   "name": "python",
   "nbconvert_exporter": "python",
   "pygments_lexer": "ipython3",
   "version": "3.5.2"
  }
 },
 "nbformat": 4,
 "nbformat_minor": 1
}
