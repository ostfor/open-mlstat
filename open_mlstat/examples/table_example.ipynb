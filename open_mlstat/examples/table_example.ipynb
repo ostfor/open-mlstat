{
 "cells": [
  {
   "cell_type": "markdown",
   "metadata": {
    "collapsed": true
   },
   "source": [
    "# Save credentials\n",
    "\n",
    "- Register app on google api ( [tutorial](https://developers.google.com/drive/api/v3/quickstart/go) )\n",
    "- Enable `Google Drive API` and `Google Sheets API`\n",
    "- Create key for [service account](https://console.cloud.google.com/iam-admin/serviceaccounts). Choose key , tap `...` -> `Create key` -> `JSON`.\n",
    "\n",
    "\n",
    "```bash\n",
    "mv <path> /tmp/drive.json\n",
    "```\n",
    "\n",
    "# Custom table\n",
    "\n",
    "The custom config could be used:\n",
    "```\n",
    "{\n",
    "  \"experiment_name\": <name of experiments to log>,\n",
    "  \"credentials\": <path to credentials file>,\n",
    "  \"table_titles\": <titles for fields to log>\n",
    "}\n",
    "```"
   ]
  },
  {
   "cell_type": "code",
   "execution_count": 2,
   "metadata": {},
   "outputs": [
    {
     "name": "stdout",
     "output_type": "stream",
     "text": [
      "{\r\n",
      "  \"experiment_name\": \"testing\",\r\n",
      "  \"credentials\": \"/tmp/drive.json\",\r\n",
      "  \"table_titles\": [\r\n",
      "    \"ID\", \"Date\", \"Run_Date\", \"Epoch\", \"Loss\", \"Accuracy\", \"Model weights Link\", \"Model configuration\", \"Model run command\", \"Commit\", \"Test Set Link\", \"Train Set Link\", \"Statistics Snapshots Folder\", \"Server Name\", \"Time per epoch\", \"Visualization Link\"]\r\n",
      "}"
     ]
    }
   ],
   "source": [
    "#\"testing_case\", \"/tmp/drive.json\"\n",
    "! cat ../cfg/default_config.json"
   ]
  },
  {
   "cell_type": "code",
   "execution_count": 1,
   "metadata": {},
   "outputs": [
    {
     "name": "stdout",
     "output_type": "stream",
     "text": [
      "Table:  https://docs.google.com/spreadsheets/d/1rxdE3znqn-j1fB_pn2zo_GYQ3VfjZ5QPeMh5F5awFco\n",
      "Data folder:  https://drive.google.com/drive/u/0/folders/1wW9sPLXCgCGOXeb0IeFABNDLQZ9X_8Xm\n"
     ]
    }
   ],
   "source": [
    "from open_mlstat.google_docs_stat import GoogleDocsStats\n",
    "from open_mlstat.tools.helpers import get_commit, get_host_name\n",
    "from open_mlstat.google_sheets.sheet_query import SheetQuery\n",
    "from open_mlstat.tools.helpers import current_timestamp\n",
    "\n",
    "timestamp = current_timestamp()\n",
    "gstat = GoogleDocsStats(\"../cfg/default_config.json\")\n",
    "\n",
    "query = SheetQuery(1, 1, 0.6, timestamp, 0.2, server_id=get_host_name(), commit=get_commit())\n",
    "gstat.add(query, \"test_{}\".format(timestamp))\n"
   ]
  }
 ],
 "metadata": {
  "kernelspec": {
   "display_name": ".scnn-hand",
   "language": "python",
   "name": ".scnn-hand"
  },
  "language_info": {
   "codemirror_mode": {
    "name": "ipython",
    "version": 3
   },
   "file_extension": ".py",
   "mimetype": "text/x-python",
   "name": "python",
   "nbconvert_exporter": "python",
   "pygments_lexer": "ipython3",
   "version": "3.6.7"
  }
 },
 "nbformat": 4,
 "nbformat_minor": 1
}
